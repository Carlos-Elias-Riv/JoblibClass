{
 "cells": [
  {
   "cell_type": "code",
   "execution_count": null,
   "metadata": {},
   "outputs": [],
   "source": [
    "from joblib import Parallel, delayed"
   ]
  },
  {
   "cell_type": "code",
   "execution_count": null,
   "metadata": {},
   "outputs": [],
   "source": [
    "def sqrt(x):\n",
    "    return x**0.5\n",
    "\n",
    "with Parallel(n_jobs=2) as parallel:\n",
    "   accumulator = 0.\n",
    "   n_iter = 0\n",
    "   while accumulator < 1000:\n",
    "       results = parallel(delayed(sqrt)(accumulator + i ** 2)\n",
    "                          for i in range(5))\n",
    "       accumulator += sum(results)  # synchronization barrier\n",
    "       n_iter += 1\n",
    "print(f'Computate to the value {accumulator} in {n_iter} iterations')"
   ]
  },
  {
   "cell_type": "markdown",
   "metadata": {},
   "source": [
    "### Entendiendo los diferentes tipos de backend de joblib con aleatoriedad"
   ]
  },
  {
   "cell_type": "code",
   "execution_count": null,
   "metadata": {},
   "outputs": [],
   "source": [
    "import numpy as np\n",
    "from joblib import Parallel, delayed\n",
    "\n",
    "def printvector(vector, backend):\n",
    "    print('\\nThe different generated vectors using the {} backend are:\\n {}'.format(backend, np.array(vector)))\n",
    "\n",
    "def generarcoordenadas(max):\n",
    "    return np.random.randint(max, size = 5)\n",
    "\n",
    "nvectors = 5\n",
    "\n",
    "randomvector = [generarcoordenadas(100) for i in range(nvectors)]\n",
    "print(print('\\nThe different generated vectors in a sequential manner are:\\n {}'\n",
    "      .format(np.array(randomvector))))"
   ]
  },
  {
   "cell_type": "markdown",
   "metadata": {},
   "source": []
  }
 ],
 "metadata": {
  "kernelspec": {
   "display_name": "Python 3.10.4 64-bit",
   "language": "python",
   "name": "python3"
  },
  "language_info": {
   "name": "python",
   "version": "3.10.4"
  },
  "orig_nbformat": 4,
  "vscode": {
   "interpreter": {
    "hash": "7e1998ff7f8aa20ada591c520b972326324e5ea05489af9e422744c7c09f6dad"
   }
  }
 },
 "nbformat": 4,
 "nbformat_minor": 2
}
