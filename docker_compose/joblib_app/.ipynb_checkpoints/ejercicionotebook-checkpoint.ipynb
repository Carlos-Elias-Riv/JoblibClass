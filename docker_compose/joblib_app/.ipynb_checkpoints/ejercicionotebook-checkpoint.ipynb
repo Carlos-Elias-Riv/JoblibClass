{
 "cells": [
  {
   "cell_type": "code",
   "execution_count": null,
   "id": "ee57bb7c-860e-40f7-b54d-edb9d06e2508",
   "metadata": {},
   "outputs": [],
   "source": [
    "import matplotlib.pyplot as plt\n",
    "import os\n",
    "\n",
    "imagen=plt.imread('181cab12f0d3d4168ddac0edfbd1f157.jpg')\n",
    "plt.imshow(imagen)\n",
    "plt.show()"
   ]
  },
  {
   "cell_type": "code",
   "execution_count": 1,
   "id": "d58cd9bc-89dc-46e9-9d7a-179d91e30bde",
   "metadata": {},
   "outputs": [],
   "source": [
    "import urllib.request"
   ]
  },
  {
   "cell_type": "code",
   "execution_count": null,
   "id": "5164d0e3-7226-4a86-a19d-29b84c881edf",
   "metadata": {},
   "outputs": [],
   "source": [
    "### Los pasos que tengan * se deben hacer de manera paralelizada\n",
    "\n",
    "## Primer paso: cargar los links desde un archivo txt a un arreglo\n",
    "## *Segundo paso: transformar las imagenes a vectores \n",
    "## *Tercer paso: obtener el primer color de la imagen que se obtiene de: colors = np.unique(imagen.reshape(-1, imagen.shape[2]), axis=0)\n",
    "## *Cuarto paso: cambiar el color de la imagen a un color random\n",
    "## Quinto paso: hacer un dataframe que tenga el link de la imagen con una columna llamada url, su antiguo color con columna llamada \n",
    "## oldcolor y su nuevo color con columna llamada newcolor\n",
    "## *Sexto paso: hacer una columna nueva que tenga diffcolor como la diferencia numerica entre newcolor y oldcolor"
   ]
  }
 ],
 "metadata": {
  "kernelspec": {
   "display_name": "Python 3 (ipykernel)",
   "language": "python",
   "name": "python3"
  },
  "language_info": {
   "codemirror_mode": {
    "name": "ipython",
    "version": 3
   },
   "file_extension": ".py",
   "mimetype": "text/x-python",
   "name": "python",
   "nbconvert_exporter": "python",
   "pygments_lexer": "ipython3",
   "version": "3.10.9"
  }
 },
 "nbformat": 4,
 "nbformat_minor": 5
}
