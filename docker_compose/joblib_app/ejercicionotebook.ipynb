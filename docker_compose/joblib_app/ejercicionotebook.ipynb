{
 "cells": [
  {
   "attachments": {},
   "cell_type": "markdown",
   "id": "5c3ea934",
   "metadata": {},
   "source": [
    "# **Tarea de Joblib**"
   ]
  },
  {
   "attachments": {},
   "cell_type": "markdown",
   "id": "034db9bc",
   "metadata": {},
   "source": [
    "Javier Nieto Merodio\n",
    "ITAM 2023 FDD"
   ]
  },
  {
   "attachments": {},
   "cell_type": "markdown",
   "id": "a9652f0c",
   "metadata": {},
   "source": [
    "## **1. Import de librerías**"
   ]
  },
  {
   "cell_type": "code",
   "execution_count": 27,
   "id": "ee57bb7c-860e-40f7-b54d-edb9d06e2508",
   "metadata": {},
   "outputs": [
    {
     "ename": "ModuleNotFoundError",
     "evalue": "No module named 'matplotlib'",
     "output_type": "error",
     "traceback": [
      "\u001b[0;31m---------------------------------------------------------------------------\u001b[0m",
      "\u001b[0;31mModuleNotFoundError\u001b[0m                       Traceback (most recent call last)",
      "Cell \u001b[0;32mIn[27], line 1\u001b[0m\n\u001b[0;32m----> 1\u001b[0m \u001b[39mimport\u001b[39;00m \u001b[39mmatplotlib\u001b[39;00m\u001b[39m.\u001b[39;00m\u001b[39mpyplot\u001b[39;00m \u001b[39mas\u001b[39;00m \u001b[39mplt\u001b[39;00m\n\u001b[1;32m      2\u001b[0m \u001b[39mimport\u001b[39;00m \u001b[39mos\u001b[39;00m\n\u001b[1;32m      3\u001b[0m \u001b[39mimport\u001b[39;00m \u001b[39mnumpy\u001b[39;00m \u001b[39mas\u001b[39;00m \u001b[39mnp\u001b[39;00m\n",
      "\u001b[0;31mModuleNotFoundError\u001b[0m: No module named 'matplotlib'"
     ]
    }
   ],
   "source": [
    "import matplotlib.pyplot as plt\n",
    "import os\n",
    "import numpy as np\n",
    "import urllib.request\n",
    "from joblib import Parallel, delayed"
   ]
  },
  {
   "cell_type": "code",
   "execution_count": null,
   "id": "93f267f4",
   "metadata": {},
   "outputs": [],
   "source": [
    "imagen=plt.imread('181cab12f0d3d4168ddac0edfbd1f157.jpg')\n",
    "plt.imshow(imagen)\n",
    "plt.show()"
   ]
  },
  {
   "cell_type": "code",
   "execution_count": null,
   "id": "5164d0e3-7226-4a86-a19d-29b84c881edf",
   "metadata": {},
   "outputs": [],
   "source": [
    "### Los pasos que tengan * se deben hacer de manera paralelizada\n",
    "\n",
    "## Primer paso: cargar los links desde un archivo txt a un arreglo\n",
    "## *Segundo paso: transformar las imagenes a vectores \n",
    "## *Tercer paso: obtener el primer color de la imagen que se obtiene de: colors = np.unique(imagen.reshape(-1, imagen.shape[2]), axis=0)\n",
    "## *Cuarto paso: cambiar el color de la imagen a un color random\n",
    "## Quinto paso: hacer un dataframe que tenga el link de la imagen con una columna llamada url, su antiguo color con columna llamada \n",
    "## oldcolor y su nuevo color con columna llamada newcolor\n",
    "## *Sexto paso: hacer una columna nueva que tenga diffcolor como la diferencia numerica entre newcolor y oldcolor"
   ]
  }
 ],
 "metadata": {
  "kernelspec": {
   "display_name": "Python 3 (ipykernel)",
   "language": "python",
   "name": "python3"
  },
  "language_info": {
   "codemirror_mode": {
    "name": "ipython",
    "version": 3
   },
   "file_extension": ".py",
   "mimetype": "text/x-python",
   "name": "python",
   "nbconvert_exporter": "python",
   "pygments_lexer": "ipython3",
   "version": "3.11.2"
  }
 },
 "nbformat": 4,
 "nbformat_minor": 5
}
