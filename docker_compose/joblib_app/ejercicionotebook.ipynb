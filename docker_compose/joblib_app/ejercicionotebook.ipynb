{
 "cells": [
  {
   "attachments": {},
   "cell_type": "markdown",
   "id": "d6f46f4b",
   "metadata": {},
   "source": [
    "# Tarea - Álvaro López"
   ]
  },
  {
   "cell_type": "code",
   "execution_count": 54,
   "id": "ee57bb7c-860e-40f7-b54d-edb9d06e2508",
   "metadata": {},
   "outputs": [],
   "source": [
    "import matplotlib.pyplot as plt\n",
    "import os\n",
    "\n",
    "# imagen=plt.imread('181cab12f0d3d4168ddac0edfbd1f157.jpg')\n",
    "# plt.imshow(imagen)\n",
    "# plt.show()"
   ]
  },
  {
   "cell_type": "code",
   "execution_count": 55,
   "id": "d58cd9bc-89dc-46e9-9d7a-179d91e30bde",
   "metadata": {},
   "outputs": [],
   "source": [
    "import urllib.request"
   ]
  },
  {
   "cell_type": "code",
   "execution_count": 56,
   "id": "5164d0e3-7226-4a86-a19d-29b84c881edf",
   "metadata": {},
   "outputs": [],
   "source": [
    "### Los pasos que tengan * se deben hacer de manera paralelizada\n",
    "\n",
    "## Primer paso: cargar los links desde un archivo txt a un arreglo\n",
    "## *Segundo paso: transformar las imagenes a vectores \n",
    "## *Tercer paso: obtener el primer color de la imagen que se obtiene de: colors = np.unique(imagen.reshape(-1, imagen.shape[2]), axis=0)\n",
    "## *Cuarto paso: cambiar el color de la imagen a un color random\n",
    "## Quinto paso: hacer un dataframe que tenga el link de la imagen con una columna llamada url, su antiguo color con columna llamada \n",
    "## oldcolor y su nuevo color con columna llamada newcolor\n",
    "## *Sexto paso: hacer una columna nueva que tenga diffcolor como la diferencia numerica entre newcolor y oldcolor"
   ]
  },
  {
   "cell_type": "code",
   "execution_count": null,
   "id": "7ebd308a",
   "metadata": {},
   "outputs": [],
   "source": [
    "## Primer paso: cargar los links desde un archivo txt a un arreglo\n",
    "\n",
    "imagenes = []\n",
    "with open(\"../../20_images.txt\", \"r\") as file:\n",
    "    for imagen in file:\n",
    "        imagenes.append(imagen.split()[0])\n",
    "imagenes"
   ]
  },
  {
   "cell_type": "code",
   "execution_count": 48,
   "id": "33d13466",
   "metadata": {},
   "outputs": [],
   "source": [
    "## *Segundo paso: transformar las imagenes a vectores \n",
    "from joblib import Parallel, delayed\n",
    "import numpy as np\n",
    "\n",
    "def vector(img):\n",
    "    try:\n",
    "        return plt.imread(img)\n",
    "    except:\n",
    "        pass\n",
    "\n",
    "vector_imgs = Parallel(n_jobs= 4)(delayed(vector)(path + \"/\" + i) for i in nom_imgs)\n",
    "\n",
    "\n"
   ]
  },
  {
   "cell_type": "code",
   "execution_count": 53,
   "metadata": {},
   "outputs": [],
   "source": [
    "## *Tercer paso: obtener el primer color de la imagen que se obtiene de: colors = np.unique(imagen.reshape(-1, imagen.shape[2]), axis=0)\n",
    "## *Cuarto paso: cambiar el color de la imagen a un color random\n",
    "def cambiar_color(img):\n",
    "    try:\n",
    "        copy = img.copy()\n",
    "        random_num = np.random.randint(0, 2)\n",
    "        color_viejo = copy[0, 0, random_num]\n",
    "        color_nuevo = np.random.uniform(0, 255)\n",
    "        copy[:, :, random_num] = color_nuevo\n",
    "        return copy, color_viejo, color_nuevo\n",
    "    except:\n",
    "        pass\n",
    "\n",
    "imagenes_nuevas, colores_viejos, colores_nuevos = zip(*Parallel(n_jobs=4)(delayed(cambiar_color)(i) for i in imgs_vectorizadas))"
   ]
  },
  {
   "cell_type": "code",
   "execution_count": null,
   "id": "03642a6c",
   "metadata": {},
   "outputs": [],
   "source": [
    "## Quinto paso: hacer un dataframe que tenga el link de la imagen con una columna llamada url, su antiguo color con columna llamada \n",
    "## oldcolor y su nuevo color con columna llamada newcolor\n",
    "datos = {'url': urls, 'oldcolor': colores_viejos, 'newcolor': colores_nuevos}\n",
    "df = pd.DataFrame(datos)"
   ]
  },
  {
   "cell_type": "code",
   "execution_count": null,
   "id": "593e368d",
   "metadata": {},
   "outputs": [],
   "source": [
    "## *Sexto paso: hacer una columna nueva que tenga diffcolor como la diferencia numerica entre newcolor y oldcolor\n",
    "def resta(a, b):\n",
    "    return a - b\n",
    "\n",
    "diff = Parallel(n_jobs=4)(delayed(resta)(colores_viejos[i], colores_nuevos[i]) for i in range(len(colores_viejos)))\n",
    "diff = np.array(diff)\n",
    "df['diffcolor'] = diff"
   ]
  }
 ],
 "metadata": {
  "kernelspec": {
   "display_name": "Python 3 (ipykernel)",
   "language": "python",
   "name": "python3"
  },
  "language_info": {
   "codemirror_mode": {
    "name": "ipython",
    "version": 3
   },
   "file_extension": ".py",
   "mimetype": "text/x-python",
   "name": "python",
   "nbconvert_exporter": "python",
   "pygments_lexer": "ipython3",
   "version": "3.8.5"
  }
 },
 "nbformat": 4,
 "nbformat_minor": 5
}
