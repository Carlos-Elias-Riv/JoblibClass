{
 "cells": [
  {
   "attachments": {},
   "cell_type": "markdown",
   "id": "3de2cb16",
   "metadata": {},
   "source": [
    "## Tarea Alejandra Arredondo"
   ]
  },
  {
   "attachments": {},
   "cell_type": "markdown",
   "id": "a4be0de4",
   "metadata": {},
   "source": [
    "Importaciones"
   ]
  },
  {
   "cell_type": "code",
   "execution_count": null,
   "id": "6a09ba73",
   "metadata": {},
   "outputs": [],
   "source": [
    "import matplotlib.pyplot as plt\n",
    "import os\n",
    "import pandas as pd\n",
    "import numpy as np\n",
    "import random\n"
   ]
  },
  {
   "cell_type": "code",
   "execution_count": 1,
   "id": "d58cd9bc-89dc-46e9-9d7a-179d91e30bde",
   "metadata": {},
   "outputs": [],
   "source": [
    "import urllib.request"
   ]
  },
  {
   "attachments": {},
   "cell_type": "markdown",
   "id": "b28639de",
   "metadata": {},
   "source": [
    "Primer paso: cargar los links desde un archivo txt a un arreglo"
   ]
  },
  {
   "cell_type": "code",
   "execution_count": null,
   "id": "896819cf",
   "metadata": {},
   "outputs": [],
   "source": [
    "arreglo=np.loadtxt('20_images.txt', dtype='str')\n",
    "arreglo"
   ]
  },
  {
   "cell_type": "code",
   "execution_count": null,
   "id": "d1beb680",
   "metadata": {},
   "outputs": [],
   "source": [
    "images = []\n",
    "\n",
    "for url in arreglo:\n",
    "    response = requests.get(url)\n",
    "    image = response.content\n",
    "    images.append(image)"
   ]
  },
  {
   "attachments": {},
   "cell_type": "markdown",
   "id": "aa5653b1",
   "metadata": {},
   "source": [
    "Segundo paso: transformar las imagenes a vectores "
   ]
  },
  {
   "cell_type": "code",
   "execution_count": null,
   "id": "a2f1cea5",
   "metadata": {},
   "outputs": [],
   "source": [
    "def vectores(i):\n",
    "    try:\n",
    "        return plt.imread(i)\n",
    "    except:\n",
    "        pass"
   ]
  },
  {
   "cell_type": "code",
   "execution_count": null,
   "id": "055ec2d8",
   "metadata": {},
   "outputs": [],
   "source": [
    "iv = Parallel(n_jobs= 4)(delayed(vector)(path + \"/\" + i) for i in images)"
   ]
  },
  {
   "attachments": {},
   "cell_type": "markdown",
   "id": "6023b1a3",
   "metadata": {},
   "source": [
    "Tercer paso: obtener el primer color de la imagen que se obtiene de: colors = np.unique(imagen.reshape(-1, imagen.shape[2]), axis=0)\n"
   ]
  },
  {
   "attachments": {},
   "cell_type": "markdown",
   "id": "894b2f6e",
   "metadata": {},
   "source": [
    "Cuarto paso: cambiar el color de la imagen a un color random"
   ]
  },
  {
   "cell_type": "code",
   "execution_count": null,
   "id": "72fe0a45",
   "metadata": {},
   "outputs": [],
   "source": [
    "def cambio_color(img):\n",
    "    try: \n",
    "        copy=img.copy()\n",
    "        aleatorio=np.random.randint(0,2)\n",
    "        anterior=copy[0,0,rand]\n",
    "        actual=np.random.uniform(0, 255)\n",
    "        copy[:,:,rand]=actual\n",
    "        return copy, anterior, actual\n",
    "    except:\n",
    "        pass"
   ]
  },
  {
   "cell_type": "code",
   "execution_count": null,
   "id": "9ebf84ee",
   "metadata": {},
   "outputs": [],
   "source": [
    "imagenes, anteriores, actuales = zip(*Parallel(n_jobs=4)(delayed(cambio_color)(i) for i in images))"
   ]
  },
  {
   "attachments": {},
   "cell_type": "markdown",
   "id": "6b1c0132",
   "metadata": {},
   "source": [
    "Quinto paso: hacer un dataframe que tenga el link de la imagen con una columna llamada url, su antiguo color con columna llamada oldcolor y su nuevo color con columna llamada newcolor"
   ]
  },
  {
   "cell_type": "code",
   "execution_count": null,
   "id": "d755ec80",
   "metadata": {},
   "outputs": [],
   "source": [
    "dataf = {'url': arreglo, 'oldcolor': anteriores, 'newcolor': actuales}\n",
    "df = pd.DataFrame(dataf)\n",
    "df"
   ]
  }
 ],
 "metadata": {
  "kernelspec": {
   "display_name": "Python 3 (ipykernel)",
   "language": "python",
   "name": "python3"
  },
  "language_info": {
   "codemirror_mode": {
    "name": "ipython",
    "version": 3
   },
   "file_extension": ".py",
   "mimetype": "text/x-python",
   "name": "python",
   "nbconvert_exporter": "python",
   "pygments_lexer": "ipython3",
   "version": "3.10.8"
  }
 },
 "nbformat": 4,
 "nbformat_minor": 5
}
