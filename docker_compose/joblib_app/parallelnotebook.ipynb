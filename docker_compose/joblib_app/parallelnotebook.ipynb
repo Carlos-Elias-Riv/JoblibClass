{
 "cells": [
  {
   "cell_type": "code",
   "execution_count": null,
   "metadata": {},
   "outputs": [],
   "source": [
    "from joblib import Parallel, delayed"
   ]
  },
  {
   "cell_type": "code",
   "execution_count": null,
   "metadata": {},
   "outputs": [],
   "source": [
    "with Parallel(n_jobs=2) as parallel:\n",
    "   accumulator = 0.\n",
    "   n_iter = 0\n",
    "   while accumulator < 1000:\n",
    "       results = parallel(delayed(sqrt)(accumulator + i ** 2)\n",
    "                          for i in range(5))\n",
    "       accumulator += sum(results)  # synchronization barrier\n",
    "       n_iter += 1\n",
    "print(f'Computate to the value {accumulator} in {n_iter} iterations')"
   ]
  }
 ],
 "metadata": {
  "kernelspec": {
   "display_name": "Python 3.10.4 64-bit",
   "language": "python",
   "name": "python3"
  },
  "language_info": {
   "name": "python",
   "version": "3.10.4"
  },
  "orig_nbformat": 4,
  "vscode": {
   "interpreter": {
    "hash": "7e1998ff7f8aa20ada591c520b972326324e5ea05489af9e422744c7c09f6dad"
   }
  }
 },
 "nbformat": 4,
 "nbformat_minor": 2
}
