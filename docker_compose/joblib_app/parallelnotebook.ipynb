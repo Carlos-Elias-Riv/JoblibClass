{
 "cells": [
  {
   "cell_type": "code",
   "execution_count": 1,
   "metadata": {},
   "outputs": [],
   "source": [
    "from joblib import Parallel, delayed"
   ]
  },
  {
   "cell_type": "code",
   "execution_count": 16,
   "metadata": {},
   "outputs": [
    {
     "name": "stdout",
     "output_type": "stream",
     "text": [
      "Computate to the value 1136.5969161564717 in 14 iterations\n"
     ]
    }
   ],
   "source": [
    "with Parallel(n_jobs=-1) as parallel:\n",
    "    def sqrt(x):\n",
    "        return x**0.5\n",
    "    \n",
    "    accumulator = 0.\n",
    "    n_iter = 0\n",
    "    while accumulator < 1000:\n",
    "        results = parallel(delayed(sqrt) (accumulator + i **2) for i in range(5))\n",
    "        accumulator += sum(results)\n",
    "        n_iter += 1\n",
    "        \n",
    "    print(f'Computate to the value {accumulator} in {n_iter} iterations')"
   ]
  },
  {
   "cell_type": "code",
   "execution_count": 15,
   "metadata": {},
   "outputs": [
    {
     "name": "stdout",
     "output_type": "stream",
     "text": [
      "Computate to the value 1136.5969161564717 in 14 iterations\n"
     ]
    }
   ],
   "source": [
    "accumulator = 0.\n",
    "n_iter = 0\n",
    "while accumulator < 1000: \n",
    "    results = 0.\n",
    "    for i in range(5): \n",
    "        results += sqrt(accumulator + i**2)\n",
    "    accumulator += (results)\n",
    "    n_iter += 1\n",
    "        \n",
    "print(f'Computate to the value {accumulator} in {n_iter} iterations')\n",
    "        "
   ]
  },
  {
   "cell_type": "markdown",
   "metadata": {},
   "source": [
    "#### Entendiendo los diferentes tipos de backend de joblib con aleatoriedad"
   ]
  },
  {
   "cell_type": "code",
   "execution_count": null,
   "metadata": {},
   "outputs": [],
   "source": [
    "import numpy as np\n",
    "from joblib import Parallel, delayed\n",
    "\n",
    "def printvector(vector, backend):\n",
    "    print('\\nThe different generated vectors using the {} backend are:\\n {}'.format(backend, np.array(vector)))\n",
    "\n",
    "def generarcoordenadas(max):\n",
    "    return np.random.randint(max, size = 5)\n",
    "\n",
    "nvectors = 5\n",
    "\n",
    "randomvector = [generarcoordenadas(100) for i in range(nvectors)]\n",
    "print(print('\\nThe different generated vectors in a sequential manner are:\\n {}'\n",
    "      .format(np.array(randomvector))))"
   ]
  }
 ],
 "metadata": {
  "kernelspec": {
   "display_name": "Python 3 (ipykernel)",
   "language": "python",
   "name": "python3"
  },
  "language_info": {
   "codemirror_mode": {
    "name": "ipython",
    "version": 3
   },
   "file_extension": ".py",
   "mimetype": "text/x-python",
   "name": "python",
   "nbconvert_exporter": "python",
   "pygments_lexer": "ipython3",
   "version": "3.10.9"
  },
  "vscode": {
   "interpreter": {
    "hash": "7e1998ff7f8aa20ada591c520b972326324e5ea05489af9e422744c7c09f6dad"
   }
  }
 },
 "nbformat": 4,
 "nbformat_minor": 4
}
